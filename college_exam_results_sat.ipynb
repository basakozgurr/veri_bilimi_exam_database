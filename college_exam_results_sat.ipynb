{
  "nbformat": 4,
  "nbformat_minor": 0,
  "metadata": {
    "colab": {
      "provenance": [],
      "authorship_tag": "ABX9TyP2Xr3QAWig5XowSGYj8XnQ",
      "include_colab_link": true
    },
    "kernelspec": {
      "name": "python3",
      "display_name": "Python 3"
    },
    "language_info": {
      "name": "python"
    }
  },
  "cells": [
    {
      "cell_type": "markdown",
      "metadata": {
        "id": "view-in-github",
        "colab_type": "text"
      },
      "source": [
        "<a href=\"https://colab.research.google.com/github/basakozgurr/veri_bilimi_exam_database/blob/main/college_exam_results_sat.ipynb\" target=\"_parent\"><img src=\"https://colab.research.google.com/assets/colab-badge.svg\" alt=\"Open In Colab\"/></a>"
      ]
    },
    {
      "cell_type": "markdown",
      "source": [
        "Import Libraries 📜 1️⃣"
      ],
      "metadata": {
        "id": "8U9mC5yVqokk"
      }
    },
    {
      "cell_type": "code",
      "execution_count": 8,
      "metadata": {
        "id": "xRdtHbrQ551R"
      },
      "outputs": [],
      "source": [
        "import pandas as pd                          #önemli kütüphaneleri ekleme\n",
        "import numpy as np\n",
        "import matplotlib.pyplot as plt\n",
        "import seaborn as sns"
      ]
    },
    {
      "cell_type": "markdown",
      "source": [
        "Load and Check Data ✔️2️⃣"
      ],
      "metadata": {
        "id": "7TT7tFvUqy7S"
      }
    },
    {
      "cell_type": "code",
      "source": [
        "df=pd.read_csv(\"archive.zip\") #dosyayı ekleme"
      ],
      "metadata": {
        "id": "3wvP4ahBlG9E"
      },
      "execution_count": 9,
      "outputs": []
    },
    {
      "cell_type": "markdown",
      "source": [],
      "metadata": {
        "id": "OXorGkD-q7TM"
      }
    },
    {
      "cell_type": "code",
      "source": [
        "df #kaç satır kaç sütun olduğunu kontrol etme"
      ],
      "metadata": {
        "colab": {
          "base_uri": "https://localhost:8080/",
          "height": 423
        },
        "id": "20EGpsNUlmBz",
        "outputId": "8dc8cfa6-4c09-4434-f556-8240ea65d4b1"
      },
      "execution_count": 7,
      "outputs": [
        {
          "output_type": "execute_result",
          "data": {
            "text/plain": [
              "        DBN                                        School Name  \\\n",
              "0    01M292     Henry Street School for International Studies    \n",
              "1    01M448               University Neighborhood High School    \n",
              "2    01M450                   East Side Community High School    \n",
              "3    01M458                      SATELLITE ACADEMY FORSYTH ST    \n",
              "4    01M509                                  CMSP HIGH SCHOOL    \n",
              "..      ...                                                ...   \n",
              "455  75R025                        South Richmond High School    \n",
              "456  75X012                      PS12X LEWIS AND CLARK SCHOOL    \n",
              "457  75X754  P754 X - Jeffrey M. Rapport School for Career ...   \n",
              "458  76K460                              John Jay High School    \n",
              "459  79X490                                    PHOENIX SCHOOL    \n",
              "\n",
              "     Number of Test Takers  Critical Reading Mean  Mathematics Mean  \\\n",
              "0                     31.0                  391.0             425.0   \n",
              "1                     60.0                  394.0             419.0   \n",
              "2                     69.0                  418.0             431.0   \n",
              "3                     26.0                  385.0             370.0   \n",
              "4                      NaN                    NaN               NaN   \n",
              "..                     ...                    ...               ...   \n",
              "455                   10.0                  407.0             421.0   \n",
              "456                    NaN                    NaN               NaN   \n",
              "457                    NaN                    NaN               NaN   \n",
              "458                    9.0                  390.0             381.0   \n",
              "459                    7.0                  404.0             423.0   \n",
              "\n",
              "     Writing Mean  \n",
              "0           385.0  \n",
              "1           387.0  \n",
              "2           402.0  \n",
              "3           378.0  \n",
              "4             NaN  \n",
              "..            ...  \n",
              "455         400.0  \n",
              "456           NaN  \n",
              "457           NaN  \n",
              "458         398.0  \n",
              "459         416.0  \n",
              "\n",
              "[460 rows x 6 columns]"
            ],
            "text/html": [
              "\n",
              "  <div id=\"df-b0a8d9b6-1ee7-4c4b-a567-fd32a207a355\" class=\"colab-df-container\">\n",
              "    <div>\n",
              "<style scoped>\n",
              "    .dataframe tbody tr th:only-of-type {\n",
              "        vertical-align: middle;\n",
              "    }\n",
              "\n",
              "    .dataframe tbody tr th {\n",
              "        vertical-align: top;\n",
              "    }\n",
              "\n",
              "    .dataframe thead th {\n",
              "        text-align: right;\n",
              "    }\n",
              "</style>\n",
              "<table border=\"1\" class=\"dataframe\">\n",
              "  <thead>\n",
              "    <tr style=\"text-align: right;\">\n",
              "      <th></th>\n",
              "      <th>DBN</th>\n",
              "      <th>School Name</th>\n",
              "      <th>Number of Test Takers</th>\n",
              "      <th>Critical Reading Mean</th>\n",
              "      <th>Mathematics Mean</th>\n",
              "      <th>Writing Mean</th>\n",
              "    </tr>\n",
              "  </thead>\n",
              "  <tbody>\n",
              "    <tr>\n",
              "      <th>0</th>\n",
              "      <td>01M292</td>\n",
              "      <td>Henry Street School for International Studies</td>\n",
              "      <td>31.0</td>\n",
              "      <td>391.0</td>\n",
              "      <td>425.0</td>\n",
              "      <td>385.0</td>\n",
              "    </tr>\n",
              "    <tr>\n",
              "      <th>1</th>\n",
              "      <td>01M448</td>\n",
              "      <td>University Neighborhood High School</td>\n",
              "      <td>60.0</td>\n",
              "      <td>394.0</td>\n",
              "      <td>419.0</td>\n",
              "      <td>387.0</td>\n",
              "    </tr>\n",
              "    <tr>\n",
              "      <th>2</th>\n",
              "      <td>01M450</td>\n",
              "      <td>East Side Community High School</td>\n",
              "      <td>69.0</td>\n",
              "      <td>418.0</td>\n",
              "      <td>431.0</td>\n",
              "      <td>402.0</td>\n",
              "    </tr>\n",
              "    <tr>\n",
              "      <th>3</th>\n",
              "      <td>01M458</td>\n",
              "      <td>SATELLITE ACADEMY FORSYTH ST</td>\n",
              "      <td>26.0</td>\n",
              "      <td>385.0</td>\n",
              "      <td>370.0</td>\n",
              "      <td>378.0</td>\n",
              "    </tr>\n",
              "    <tr>\n",
              "      <th>4</th>\n",
              "      <td>01M509</td>\n",
              "      <td>CMSP HIGH SCHOOL</td>\n",
              "      <td>NaN</td>\n",
              "      <td>NaN</td>\n",
              "      <td>NaN</td>\n",
              "      <td>NaN</td>\n",
              "    </tr>\n",
              "    <tr>\n",
              "      <th>...</th>\n",
              "      <td>...</td>\n",
              "      <td>...</td>\n",
              "      <td>...</td>\n",
              "      <td>...</td>\n",
              "      <td>...</td>\n",
              "      <td>...</td>\n",
              "    </tr>\n",
              "    <tr>\n",
              "      <th>455</th>\n",
              "      <td>75R025</td>\n",
              "      <td>South Richmond High School</td>\n",
              "      <td>10.0</td>\n",
              "      <td>407.0</td>\n",
              "      <td>421.0</td>\n",
              "      <td>400.0</td>\n",
              "    </tr>\n",
              "    <tr>\n",
              "      <th>456</th>\n",
              "      <td>75X012</td>\n",
              "      <td>PS12X LEWIS AND CLARK SCHOOL</td>\n",
              "      <td>NaN</td>\n",
              "      <td>NaN</td>\n",
              "      <td>NaN</td>\n",
              "      <td>NaN</td>\n",
              "    </tr>\n",
              "    <tr>\n",
              "      <th>457</th>\n",
              "      <td>75X754</td>\n",
              "      <td>P754 X - Jeffrey M. Rapport School for Career ...</td>\n",
              "      <td>NaN</td>\n",
              "      <td>NaN</td>\n",
              "      <td>NaN</td>\n",
              "      <td>NaN</td>\n",
              "    </tr>\n",
              "    <tr>\n",
              "      <th>458</th>\n",
              "      <td>76K460</td>\n",
              "      <td>John Jay High School</td>\n",
              "      <td>9.0</td>\n",
              "      <td>390.0</td>\n",
              "      <td>381.0</td>\n",
              "      <td>398.0</td>\n",
              "    </tr>\n",
              "    <tr>\n",
              "      <th>459</th>\n",
              "      <td>79X490</td>\n",
              "      <td>PHOENIX SCHOOL</td>\n",
              "      <td>7.0</td>\n",
              "      <td>404.0</td>\n",
              "      <td>423.0</td>\n",
              "      <td>416.0</td>\n",
              "    </tr>\n",
              "  </tbody>\n",
              "</table>\n",
              "<p>460 rows × 6 columns</p>\n",
              "</div>\n",
              "    <div class=\"colab-df-buttons\">\n",
              "\n",
              "  <div class=\"colab-df-container\">\n",
              "    <button class=\"colab-df-convert\" onclick=\"convertToInteractive('df-b0a8d9b6-1ee7-4c4b-a567-fd32a207a355')\"\n",
              "            title=\"Convert this dataframe to an interactive table.\"\n",
              "            style=\"display:none;\">\n",
              "\n",
              "  <svg xmlns=\"http://www.w3.org/2000/svg\" height=\"24px\" viewBox=\"0 -960 960 960\">\n",
              "    <path d=\"M120-120v-720h720v720H120Zm60-500h600v-160H180v160Zm220 220h160v-160H400v160Zm0 220h160v-160H400v160ZM180-400h160v-160H180v160Zm440 0h160v-160H620v160ZM180-180h160v-160H180v160Zm440 0h160v-160H620v160Z\"/>\n",
              "  </svg>\n",
              "    </button>\n",
              "\n",
              "  <style>\n",
              "    .colab-df-container {\n",
              "      display:flex;\n",
              "      gap: 12px;\n",
              "    }\n",
              "\n",
              "    .colab-df-convert {\n",
              "      background-color: #E8F0FE;\n",
              "      border: none;\n",
              "      border-radius: 50%;\n",
              "      cursor: pointer;\n",
              "      display: none;\n",
              "      fill: #1967D2;\n",
              "      height: 32px;\n",
              "      padding: 0 0 0 0;\n",
              "      width: 32px;\n",
              "    }\n",
              "\n",
              "    .colab-df-convert:hover {\n",
              "      background-color: #E2EBFA;\n",
              "      box-shadow: 0px 1px 2px rgba(60, 64, 67, 0.3), 0px 1px 3px 1px rgba(60, 64, 67, 0.15);\n",
              "      fill: #174EA6;\n",
              "    }\n",
              "\n",
              "    .colab-df-buttons div {\n",
              "      margin-bottom: 4px;\n",
              "    }\n",
              "\n",
              "    [theme=dark] .colab-df-convert {\n",
              "      background-color: #3B4455;\n",
              "      fill: #D2E3FC;\n",
              "    }\n",
              "\n",
              "    [theme=dark] .colab-df-convert:hover {\n",
              "      background-color: #434B5C;\n",
              "      box-shadow: 0px 1px 3px 1px rgba(0, 0, 0, 0.15);\n",
              "      filter: drop-shadow(0px 1px 2px rgba(0, 0, 0, 0.3));\n",
              "      fill: #FFFFFF;\n",
              "    }\n",
              "  </style>\n",
              "\n",
              "    <script>\n",
              "      const buttonEl =\n",
              "        document.querySelector('#df-b0a8d9b6-1ee7-4c4b-a567-fd32a207a355 button.colab-df-convert');\n",
              "      buttonEl.style.display =\n",
              "        google.colab.kernel.accessAllowed ? 'block' : 'none';\n",
              "\n",
              "      async function convertToInteractive(key) {\n",
              "        const element = document.querySelector('#df-b0a8d9b6-1ee7-4c4b-a567-fd32a207a355');\n",
              "        const dataTable =\n",
              "          await google.colab.kernel.invokeFunction('convertToInteractive',\n",
              "                                                    [key], {});\n",
              "        if (!dataTable) return;\n",
              "\n",
              "        const docLinkHtml = 'Like what you see? Visit the ' +\n",
              "          '<a target=\"_blank\" href=https://colab.research.google.com/notebooks/data_table.ipynb>data table notebook</a>'\n",
              "          + ' to learn more about interactive tables.';\n",
              "        element.innerHTML = '';\n",
              "        dataTable['output_type'] = 'display_data';\n",
              "        await google.colab.output.renderOutput(dataTable, element);\n",
              "        const docLink = document.createElement('div');\n",
              "        docLink.innerHTML = docLinkHtml;\n",
              "        element.appendChild(docLink);\n",
              "      }\n",
              "    </script>\n",
              "  </div>\n",
              "\n",
              "\n",
              "<div id=\"df-e348d835-7544-4c37-830a-a66eb2f59de6\">\n",
              "  <button class=\"colab-df-quickchart\" onclick=\"quickchart('df-e348d835-7544-4c37-830a-a66eb2f59de6')\"\n",
              "            title=\"Suggest charts\"\n",
              "            style=\"display:none;\">\n",
              "\n",
              "<svg xmlns=\"http://www.w3.org/2000/svg\" height=\"24px\"viewBox=\"0 0 24 24\"\n",
              "     width=\"24px\">\n",
              "    <g>\n",
              "        <path d=\"M19 3H5c-1.1 0-2 .9-2 2v14c0 1.1.9 2 2 2h14c1.1 0 2-.9 2-2V5c0-1.1-.9-2-2-2zM9 17H7v-7h2v7zm4 0h-2V7h2v10zm4 0h-2v-4h2v4z\"/>\n",
              "    </g>\n",
              "</svg>\n",
              "  </button>\n",
              "\n",
              "<style>\n",
              "  .colab-df-quickchart {\n",
              "      --bg-color: #E8F0FE;\n",
              "      --fill-color: #1967D2;\n",
              "      --hover-bg-color: #E2EBFA;\n",
              "      --hover-fill-color: #174EA6;\n",
              "      --disabled-fill-color: #AAA;\n",
              "      --disabled-bg-color: #DDD;\n",
              "  }\n",
              "\n",
              "  [theme=dark] .colab-df-quickchart {\n",
              "      --bg-color: #3B4455;\n",
              "      --fill-color: #D2E3FC;\n",
              "      --hover-bg-color: #434B5C;\n",
              "      --hover-fill-color: #FFFFFF;\n",
              "      --disabled-bg-color: #3B4455;\n",
              "      --disabled-fill-color: #666;\n",
              "  }\n",
              "\n",
              "  .colab-df-quickchart {\n",
              "    background-color: var(--bg-color);\n",
              "    border: none;\n",
              "    border-radius: 50%;\n",
              "    cursor: pointer;\n",
              "    display: none;\n",
              "    fill: var(--fill-color);\n",
              "    height: 32px;\n",
              "    padding: 0;\n",
              "    width: 32px;\n",
              "  }\n",
              "\n",
              "  .colab-df-quickchart:hover {\n",
              "    background-color: var(--hover-bg-color);\n",
              "    box-shadow: 0 1px 2px rgba(60, 64, 67, 0.3), 0 1px 3px 1px rgba(60, 64, 67, 0.15);\n",
              "    fill: var(--button-hover-fill-color);\n",
              "  }\n",
              "\n",
              "  .colab-df-quickchart-complete:disabled,\n",
              "  .colab-df-quickchart-complete:disabled:hover {\n",
              "    background-color: var(--disabled-bg-color);\n",
              "    fill: var(--disabled-fill-color);\n",
              "    box-shadow: none;\n",
              "  }\n",
              "\n",
              "  .colab-df-spinner {\n",
              "    border: 2px solid var(--fill-color);\n",
              "    border-color: transparent;\n",
              "    border-bottom-color: var(--fill-color);\n",
              "    animation:\n",
              "      spin 1s steps(1) infinite;\n",
              "  }\n",
              "\n",
              "  @keyframes spin {\n",
              "    0% {\n",
              "      border-color: transparent;\n",
              "      border-bottom-color: var(--fill-color);\n",
              "      border-left-color: var(--fill-color);\n",
              "    }\n",
              "    20% {\n",
              "      border-color: transparent;\n",
              "      border-left-color: var(--fill-color);\n",
              "      border-top-color: var(--fill-color);\n",
              "    }\n",
              "    30% {\n",
              "      border-color: transparent;\n",
              "      border-left-color: var(--fill-color);\n",
              "      border-top-color: var(--fill-color);\n",
              "      border-right-color: var(--fill-color);\n",
              "    }\n",
              "    40% {\n",
              "      border-color: transparent;\n",
              "      border-right-color: var(--fill-color);\n",
              "      border-top-color: var(--fill-color);\n",
              "    }\n",
              "    60% {\n",
              "      border-color: transparent;\n",
              "      border-right-color: var(--fill-color);\n",
              "    }\n",
              "    80% {\n",
              "      border-color: transparent;\n",
              "      border-right-color: var(--fill-color);\n",
              "      border-bottom-color: var(--fill-color);\n",
              "    }\n",
              "    90% {\n",
              "      border-color: transparent;\n",
              "      border-bottom-color: var(--fill-color);\n",
              "    }\n",
              "  }\n",
              "</style>\n",
              "\n",
              "  <script>\n",
              "    async function quickchart(key) {\n",
              "      const quickchartButtonEl =\n",
              "        document.querySelector('#' + key + ' button');\n",
              "      quickchartButtonEl.disabled = true;  // To prevent multiple clicks.\n",
              "      quickchartButtonEl.classList.add('colab-df-spinner');\n",
              "      try {\n",
              "        const charts = await google.colab.kernel.invokeFunction(\n",
              "            'suggestCharts', [key], {});\n",
              "      } catch (error) {\n",
              "        console.error('Error during call to suggestCharts:', error);\n",
              "      }\n",
              "      quickchartButtonEl.classList.remove('colab-df-spinner');\n",
              "      quickchartButtonEl.classList.add('colab-df-quickchart-complete');\n",
              "    }\n",
              "    (() => {\n",
              "      let quickchartButtonEl =\n",
              "        document.querySelector('#df-e348d835-7544-4c37-830a-a66eb2f59de6 button');\n",
              "      quickchartButtonEl.style.display =\n",
              "        google.colab.kernel.accessAllowed ? 'block' : 'none';\n",
              "    })();\n",
              "  </script>\n",
              "</div>\n",
              "\n",
              "  <div id=\"id_1772a7d7-51a7-4fee-b5c0-6d6f01cd94b1\">\n",
              "    <style>\n",
              "      .colab-df-generate {\n",
              "        background-color: #E8F0FE;\n",
              "        border: none;\n",
              "        border-radius: 50%;\n",
              "        cursor: pointer;\n",
              "        display: none;\n",
              "        fill: #1967D2;\n",
              "        height: 32px;\n",
              "        padding: 0 0 0 0;\n",
              "        width: 32px;\n",
              "      }\n",
              "\n",
              "      .colab-df-generate:hover {\n",
              "        background-color: #E2EBFA;\n",
              "        box-shadow: 0px 1px 2px rgba(60, 64, 67, 0.3), 0px 1px 3px 1px rgba(60, 64, 67, 0.15);\n",
              "        fill: #174EA6;\n",
              "      }\n",
              "\n",
              "      [theme=dark] .colab-df-generate {\n",
              "        background-color: #3B4455;\n",
              "        fill: #D2E3FC;\n",
              "      }\n",
              "\n",
              "      [theme=dark] .colab-df-generate:hover {\n",
              "        background-color: #434B5C;\n",
              "        box-shadow: 0px 1px 3px 1px rgba(0, 0, 0, 0.15);\n",
              "        filter: drop-shadow(0px 1px 2px rgba(0, 0, 0, 0.3));\n",
              "        fill: #FFFFFF;\n",
              "      }\n",
              "    </style>\n",
              "    <button class=\"colab-df-generate\" onclick=\"generateWithVariable('df')\"\n",
              "            title=\"Generate code using this dataframe.\"\n",
              "            style=\"display:none;\">\n",
              "\n",
              "  <svg xmlns=\"http://www.w3.org/2000/svg\" height=\"24px\"viewBox=\"0 0 24 24\"\n",
              "       width=\"24px\">\n",
              "    <path d=\"M7,19H8.4L18.45,9,17,7.55,7,17.6ZM5,21V16.75L18.45,3.32a2,2,0,0,1,2.83,0l1.4,1.43a1.91,1.91,0,0,1,.58,1.4,1.91,1.91,0,0,1-.58,1.4L9.25,21ZM18.45,9,17,7.55Zm-12,3A5.31,5.31,0,0,0,4.9,8.1,5.31,5.31,0,0,0,1,6.5,5.31,5.31,0,0,0,4.9,4.9,5.31,5.31,0,0,0,6.5,1,5.31,5.31,0,0,0,8.1,4.9,5.31,5.31,0,0,0,12,6.5,5.46,5.46,0,0,0,6.5,12Z\"/>\n",
              "  </svg>\n",
              "    </button>\n",
              "    <script>\n",
              "      (() => {\n",
              "      const buttonEl =\n",
              "        document.querySelector('#id_1772a7d7-51a7-4fee-b5c0-6d6f01cd94b1 button.colab-df-generate');\n",
              "      buttonEl.style.display =\n",
              "        google.colab.kernel.accessAllowed ? 'block' : 'none';\n",
              "\n",
              "      buttonEl.onclick = () => {\n",
              "        google.colab.notebook.generateWithVariable('df');\n",
              "      }\n",
              "      })();\n",
              "    </script>\n",
              "  </div>\n",
              "\n",
              "    </div>\n",
              "  </div>\n"
            ],
            "application/vnd.google.colaboratory.intrinsic+json": {
              "type": "dataframe",
              "variable_name": "df",
              "summary": "{\n  \"name\": \"df\",\n  \"rows\": 460,\n  \"fields\": [\n    {\n      \"column\": \"DBN\",\n      \"properties\": {\n        \"dtype\": \"string\",\n        \"num_unique_values\": 458,\n        \"samples\": [\n          \"18K566\",\n          \"02M459\",\n          \"21K412/21K411\"\n        ],\n        \"semantic_type\": \"\",\n        \"description\": \"\"\n      }\n    },\n    {\n      \"column\": \"School Name\",\n      \"properties\": {\n        \"dtype\": \"string\",\n        \"num_unique_values\": 460,\n        \"samples\": [\n          \"ALFRED E SMITH HIGH SCHOOL \",\n          \"Millennium High School \",\n          \"Columbus Institute for Math and Science \"\n        ],\n        \"semantic_type\": \"\",\n        \"description\": \"\"\n      }\n    },\n    {\n      \"column\": \"Number of Test Takers\",\n      \"properties\": {\n        \"dtype\": \"number\",\n        \"std\": 145.26449553351577,\n        \"min\": 7.0,\n        \"max\": 1047.0,\n        \"num_unique_values\": 162,\n        \"samples\": [\n          698.0,\n          82.0,\n          109.0\n        ],\n        \"semantic_type\": \"\",\n        \"description\": \"\"\n      }\n    },\n    {\n      \"column\": \"Critical Reading Mean\",\n      \"properties\": {\n        \"dtype\": \"number\",\n        \"std\": 56.81563083702102,\n        \"min\": 291.0,\n        \"max\": 674.0,\n        \"num_unique_values\": 157,\n        \"samples\": [\n          450.0,\n          513.0,\n          396.0\n        ],\n        \"semantic_type\": \"\",\n        \"description\": \"\"\n      }\n    },\n    {\n      \"column\": \"Mathematics Mean\",\n      \"properties\": {\n        \"dtype\": \"number\",\n        \"std\": 64.99097601353782,\n        \"min\": 281.0,\n        \"max\": 735.0,\n        \"num_unique_values\": 165,\n        \"samples\": [\n          413.0,\n          349.0,\n          339.0\n        ],\n        \"semantic_type\": \"\",\n        \"description\": \"\"\n      }\n    },\n    {\n      \"column\": \"Writing Mean\",\n      \"properties\": {\n        \"dtype\": \"number\",\n        \"std\": 57.762583815929275,\n        \"min\": 285.0,\n        \"max\": 678.0,\n        \"num_unique_values\": 147,\n        \"samples\": [\n          468.0,\n          360.0,\n          467.0\n        ],\n        \"semantic_type\": \"\",\n        \"description\": \"\"\n      }\n    }\n  ]\n}"
            }
          },
          "metadata": {},
          "execution_count": 7
        }
      ]
    },
    {
      "cell_type": "code",
      "source": [
        "df.head()     #doğru olup olmadığını görmek için kontrol zamanı"
      ],
      "metadata": {
        "colab": {
          "base_uri": "https://localhost:8080/",
          "height": 206
        },
        "id": "-w98uOeHmeaj",
        "outputId": "f9684076-8589-48fc-d647-84ab0648c878"
      },
      "execution_count": 10,
      "outputs": [
        {
          "output_type": "execute_result",
          "data": {
            "text/plain": [
              "      DBN                                     School Name  \\\n",
              "0  01M292  Henry Street School for International Studies    \n",
              "1  01M448            University Neighborhood High School    \n",
              "2  01M450                East Side Community High School    \n",
              "3  01M458                   SATELLITE ACADEMY FORSYTH ST    \n",
              "4  01M509                               CMSP HIGH SCHOOL    \n",
              "\n",
              "   Number of Test Takers  Critical Reading Mean  Mathematics Mean  \\\n",
              "0                   31.0                  391.0             425.0   \n",
              "1                   60.0                  394.0             419.0   \n",
              "2                   69.0                  418.0             431.0   \n",
              "3                   26.0                  385.0             370.0   \n",
              "4                    NaN                    NaN               NaN   \n",
              "\n",
              "   Writing Mean  \n",
              "0         385.0  \n",
              "1         387.0  \n",
              "2         402.0  \n",
              "3         378.0  \n",
              "4           NaN  "
            ],
            "text/html": [
              "\n",
              "  <div id=\"df-366dbfdb-cfdd-49b1-9350-d2fee3fe5c63\" class=\"colab-df-container\">\n",
              "    <div>\n",
              "<style scoped>\n",
              "    .dataframe tbody tr th:only-of-type {\n",
              "        vertical-align: middle;\n",
              "    }\n",
              "\n",
              "    .dataframe tbody tr th {\n",
              "        vertical-align: top;\n",
              "    }\n",
              "\n",
              "    .dataframe thead th {\n",
              "        text-align: right;\n",
              "    }\n",
              "</style>\n",
              "<table border=\"1\" class=\"dataframe\">\n",
              "  <thead>\n",
              "    <tr style=\"text-align: right;\">\n",
              "      <th></th>\n",
              "      <th>DBN</th>\n",
              "      <th>School Name</th>\n",
              "      <th>Number of Test Takers</th>\n",
              "      <th>Critical Reading Mean</th>\n",
              "      <th>Mathematics Mean</th>\n",
              "      <th>Writing Mean</th>\n",
              "    </tr>\n",
              "  </thead>\n",
              "  <tbody>\n",
              "    <tr>\n",
              "      <th>0</th>\n",
              "      <td>01M292</td>\n",
              "      <td>Henry Street School for International Studies</td>\n",
              "      <td>31.0</td>\n",
              "      <td>391.0</td>\n",
              "      <td>425.0</td>\n",
              "      <td>385.0</td>\n",
              "    </tr>\n",
              "    <tr>\n",
              "      <th>1</th>\n",
              "      <td>01M448</td>\n",
              "      <td>University Neighborhood High School</td>\n",
              "      <td>60.0</td>\n",
              "      <td>394.0</td>\n",
              "      <td>419.0</td>\n",
              "      <td>387.0</td>\n",
              "    </tr>\n",
              "    <tr>\n",
              "      <th>2</th>\n",
              "      <td>01M450</td>\n",
              "      <td>East Side Community High School</td>\n",
              "      <td>69.0</td>\n",
              "      <td>418.0</td>\n",
              "      <td>431.0</td>\n",
              "      <td>402.0</td>\n",
              "    </tr>\n",
              "    <tr>\n",
              "      <th>3</th>\n",
              "      <td>01M458</td>\n",
              "      <td>SATELLITE ACADEMY FORSYTH ST</td>\n",
              "      <td>26.0</td>\n",
              "      <td>385.0</td>\n",
              "      <td>370.0</td>\n",
              "      <td>378.0</td>\n",
              "    </tr>\n",
              "    <tr>\n",
              "      <th>4</th>\n",
              "      <td>01M509</td>\n",
              "      <td>CMSP HIGH SCHOOL</td>\n",
              "      <td>NaN</td>\n",
              "      <td>NaN</td>\n",
              "      <td>NaN</td>\n",
              "      <td>NaN</td>\n",
              "    </tr>\n",
              "  </tbody>\n",
              "</table>\n",
              "</div>\n",
              "    <div class=\"colab-df-buttons\">\n",
              "\n",
              "  <div class=\"colab-df-container\">\n",
              "    <button class=\"colab-df-convert\" onclick=\"convertToInteractive('df-366dbfdb-cfdd-49b1-9350-d2fee3fe5c63')\"\n",
              "            title=\"Convert this dataframe to an interactive table.\"\n",
              "            style=\"display:none;\">\n",
              "\n",
              "  <svg xmlns=\"http://www.w3.org/2000/svg\" height=\"24px\" viewBox=\"0 -960 960 960\">\n",
              "    <path d=\"M120-120v-720h720v720H120Zm60-500h600v-160H180v160Zm220 220h160v-160H400v160Zm0 220h160v-160H400v160ZM180-400h160v-160H180v160Zm440 0h160v-160H620v160ZM180-180h160v-160H180v160Zm440 0h160v-160H620v160Z\"/>\n",
              "  </svg>\n",
              "    </button>\n",
              "\n",
              "  <style>\n",
              "    .colab-df-container {\n",
              "      display:flex;\n",
              "      gap: 12px;\n",
              "    }\n",
              "\n",
              "    .colab-df-convert {\n",
              "      background-color: #E8F0FE;\n",
              "      border: none;\n",
              "      border-radius: 50%;\n",
              "      cursor: pointer;\n",
              "      display: none;\n",
              "      fill: #1967D2;\n",
              "      height: 32px;\n",
              "      padding: 0 0 0 0;\n",
              "      width: 32px;\n",
              "    }\n",
              "\n",
              "    .colab-df-convert:hover {\n",
              "      background-color: #E2EBFA;\n",
              "      box-shadow: 0px 1px 2px rgba(60, 64, 67, 0.3), 0px 1px 3px 1px rgba(60, 64, 67, 0.15);\n",
              "      fill: #174EA6;\n",
              "    }\n",
              "\n",
              "    .colab-df-buttons div {\n",
              "      margin-bottom: 4px;\n",
              "    }\n",
              "\n",
              "    [theme=dark] .colab-df-convert {\n",
              "      background-color: #3B4455;\n",
              "      fill: #D2E3FC;\n",
              "    }\n",
              "\n",
              "    [theme=dark] .colab-df-convert:hover {\n",
              "      background-color: #434B5C;\n",
              "      box-shadow: 0px 1px 3px 1px rgba(0, 0, 0, 0.15);\n",
              "      filter: drop-shadow(0px 1px 2px rgba(0, 0, 0, 0.3));\n",
              "      fill: #FFFFFF;\n",
              "    }\n",
              "  </style>\n",
              "\n",
              "    <script>\n",
              "      const buttonEl =\n",
              "        document.querySelector('#df-366dbfdb-cfdd-49b1-9350-d2fee3fe5c63 button.colab-df-convert');\n",
              "      buttonEl.style.display =\n",
              "        google.colab.kernel.accessAllowed ? 'block' : 'none';\n",
              "\n",
              "      async function convertToInteractive(key) {\n",
              "        const element = document.querySelector('#df-366dbfdb-cfdd-49b1-9350-d2fee3fe5c63');\n",
              "        const dataTable =\n",
              "          await google.colab.kernel.invokeFunction('convertToInteractive',\n",
              "                                                    [key], {});\n",
              "        if (!dataTable) return;\n",
              "\n",
              "        const docLinkHtml = 'Like what you see? Visit the ' +\n",
              "          '<a target=\"_blank\" href=https://colab.research.google.com/notebooks/data_table.ipynb>data table notebook</a>'\n",
              "          + ' to learn more about interactive tables.';\n",
              "        element.innerHTML = '';\n",
              "        dataTable['output_type'] = 'display_data';\n",
              "        await google.colab.output.renderOutput(dataTable, element);\n",
              "        const docLink = document.createElement('div');\n",
              "        docLink.innerHTML = docLinkHtml;\n",
              "        element.appendChild(docLink);\n",
              "      }\n",
              "    </script>\n",
              "  </div>\n",
              "\n",
              "\n",
              "<div id=\"df-08869702-f3c0-42eb-966d-9c7a26080baa\">\n",
              "  <button class=\"colab-df-quickchart\" onclick=\"quickchart('df-08869702-f3c0-42eb-966d-9c7a26080baa')\"\n",
              "            title=\"Suggest charts\"\n",
              "            style=\"display:none;\">\n",
              "\n",
              "<svg xmlns=\"http://www.w3.org/2000/svg\" height=\"24px\"viewBox=\"0 0 24 24\"\n",
              "     width=\"24px\">\n",
              "    <g>\n",
              "        <path d=\"M19 3H5c-1.1 0-2 .9-2 2v14c0 1.1.9 2 2 2h14c1.1 0 2-.9 2-2V5c0-1.1-.9-2-2-2zM9 17H7v-7h2v7zm4 0h-2V7h2v10zm4 0h-2v-4h2v4z\"/>\n",
              "    </g>\n",
              "</svg>\n",
              "  </button>\n",
              "\n",
              "<style>\n",
              "  .colab-df-quickchart {\n",
              "      --bg-color: #E8F0FE;\n",
              "      --fill-color: #1967D2;\n",
              "      --hover-bg-color: #E2EBFA;\n",
              "      --hover-fill-color: #174EA6;\n",
              "      --disabled-fill-color: #AAA;\n",
              "      --disabled-bg-color: #DDD;\n",
              "  }\n",
              "\n",
              "  [theme=dark] .colab-df-quickchart {\n",
              "      --bg-color: #3B4455;\n",
              "      --fill-color: #D2E3FC;\n",
              "      --hover-bg-color: #434B5C;\n",
              "      --hover-fill-color: #FFFFFF;\n",
              "      --disabled-bg-color: #3B4455;\n",
              "      --disabled-fill-color: #666;\n",
              "  }\n",
              "\n",
              "  .colab-df-quickchart {\n",
              "    background-color: var(--bg-color);\n",
              "    border: none;\n",
              "    border-radius: 50%;\n",
              "    cursor: pointer;\n",
              "    display: none;\n",
              "    fill: var(--fill-color);\n",
              "    height: 32px;\n",
              "    padding: 0;\n",
              "    width: 32px;\n",
              "  }\n",
              "\n",
              "  .colab-df-quickchart:hover {\n",
              "    background-color: var(--hover-bg-color);\n",
              "    box-shadow: 0 1px 2px rgba(60, 64, 67, 0.3), 0 1px 3px 1px rgba(60, 64, 67, 0.15);\n",
              "    fill: var(--button-hover-fill-color);\n",
              "  }\n",
              "\n",
              "  .colab-df-quickchart-complete:disabled,\n",
              "  .colab-df-quickchart-complete:disabled:hover {\n",
              "    background-color: var(--disabled-bg-color);\n",
              "    fill: var(--disabled-fill-color);\n",
              "    box-shadow: none;\n",
              "  }\n",
              "\n",
              "  .colab-df-spinner {\n",
              "    border: 2px solid var(--fill-color);\n",
              "    border-color: transparent;\n",
              "    border-bottom-color: var(--fill-color);\n",
              "    animation:\n",
              "      spin 1s steps(1) infinite;\n",
              "  }\n",
              "\n",
              "  @keyframes spin {\n",
              "    0% {\n",
              "      border-color: transparent;\n",
              "      border-bottom-color: var(--fill-color);\n",
              "      border-left-color: var(--fill-color);\n",
              "    }\n",
              "    20% {\n",
              "      border-color: transparent;\n",
              "      border-left-color: var(--fill-color);\n",
              "      border-top-color: var(--fill-color);\n",
              "    }\n",
              "    30% {\n",
              "      border-color: transparent;\n",
              "      border-left-color: var(--fill-color);\n",
              "      border-top-color: var(--fill-color);\n",
              "      border-right-color: var(--fill-color);\n",
              "    }\n",
              "    40% {\n",
              "      border-color: transparent;\n",
              "      border-right-color: var(--fill-color);\n",
              "      border-top-color: var(--fill-color);\n",
              "    }\n",
              "    60% {\n",
              "      border-color: transparent;\n",
              "      border-right-color: var(--fill-color);\n",
              "    }\n",
              "    80% {\n",
              "      border-color: transparent;\n",
              "      border-right-color: var(--fill-color);\n",
              "      border-bottom-color: var(--fill-color);\n",
              "    }\n",
              "    90% {\n",
              "      border-color: transparent;\n",
              "      border-bottom-color: var(--fill-color);\n",
              "    }\n",
              "  }\n",
              "</style>\n",
              "\n",
              "  <script>\n",
              "    async function quickchart(key) {\n",
              "      const quickchartButtonEl =\n",
              "        document.querySelector('#' + key + ' button');\n",
              "      quickchartButtonEl.disabled = true;  // To prevent multiple clicks.\n",
              "      quickchartButtonEl.classList.add('colab-df-spinner');\n",
              "      try {\n",
              "        const charts = await google.colab.kernel.invokeFunction(\n",
              "            'suggestCharts', [key], {});\n",
              "      } catch (error) {\n",
              "        console.error('Error during call to suggestCharts:', error);\n",
              "      }\n",
              "      quickchartButtonEl.classList.remove('colab-df-spinner');\n",
              "      quickchartButtonEl.classList.add('colab-df-quickchart-complete');\n",
              "    }\n",
              "    (() => {\n",
              "      let quickchartButtonEl =\n",
              "        document.querySelector('#df-08869702-f3c0-42eb-966d-9c7a26080baa button');\n",
              "      quickchartButtonEl.style.display =\n",
              "        google.colab.kernel.accessAllowed ? 'block' : 'none';\n",
              "    })();\n",
              "  </script>\n",
              "</div>\n",
              "\n",
              "    </div>\n",
              "  </div>\n"
            ],
            "application/vnd.google.colaboratory.intrinsic+json": {
              "type": "dataframe",
              "variable_name": "df",
              "summary": "{\n  \"name\": \"df\",\n  \"rows\": 460,\n  \"fields\": [\n    {\n      \"column\": \"DBN\",\n      \"properties\": {\n        \"dtype\": \"string\",\n        \"num_unique_values\": 458,\n        \"samples\": [\n          \"18K566\",\n          \"02M459\",\n          \"21K412/21K411\"\n        ],\n        \"semantic_type\": \"\",\n        \"description\": \"\"\n      }\n    },\n    {\n      \"column\": \"School Name\",\n      \"properties\": {\n        \"dtype\": \"string\",\n        \"num_unique_values\": 460,\n        \"samples\": [\n          \"ALFRED E SMITH HIGH SCHOOL \",\n          \"Millennium High School \",\n          \"Columbus Institute for Math and Science \"\n        ],\n        \"semantic_type\": \"\",\n        \"description\": \"\"\n      }\n    },\n    {\n      \"column\": \"Number of Test Takers\",\n      \"properties\": {\n        \"dtype\": \"number\",\n        \"std\": 145.26449553351577,\n        \"min\": 7.0,\n        \"max\": 1047.0,\n        \"num_unique_values\": 162,\n        \"samples\": [\n          698.0,\n          82.0,\n          109.0\n        ],\n        \"semantic_type\": \"\",\n        \"description\": \"\"\n      }\n    },\n    {\n      \"column\": \"Critical Reading Mean\",\n      \"properties\": {\n        \"dtype\": \"number\",\n        \"std\": 56.81563083702102,\n        \"min\": 291.0,\n        \"max\": 674.0,\n        \"num_unique_values\": 157,\n        \"samples\": [\n          450.0,\n          513.0,\n          396.0\n        ],\n        \"semantic_type\": \"\",\n        \"description\": \"\"\n      }\n    },\n    {\n      \"column\": \"Mathematics Mean\",\n      \"properties\": {\n        \"dtype\": \"number\",\n        \"std\": 64.99097601353782,\n        \"min\": 281.0,\n        \"max\": 735.0,\n        \"num_unique_values\": 165,\n        \"samples\": [\n          413.0,\n          349.0,\n          339.0\n        ],\n        \"semantic_type\": \"\",\n        \"description\": \"\"\n      }\n    },\n    {\n      \"column\": \"Writing Mean\",\n      \"properties\": {\n        \"dtype\": \"number\",\n        \"std\": 57.762583815929275,\n        \"min\": 285.0,\n        \"max\": 678.0,\n        \"num_unique_values\": 147,\n        \"samples\": [\n          468.0,\n          360.0,\n          467.0\n        ],\n        \"semantic_type\": \"\",\n        \"description\": \"\"\n      }\n    }\n  ]\n}"
            }
          },
          "metadata": {},
          "execution_count": 10
        }
      ]
    },
    {
      "cell_type": "code",
      "source": [
        "df.dtypes        #verilerin türlerini öğrenmek için kullandığımız kod"
      ],
      "metadata": {
        "colab": {
          "base_uri": "https://localhost:8080/"
        },
        "id": "UruA9vKYmzOr",
        "outputId": "5520e769-4e79-4728-fe3b-70b9d042c806"
      },
      "execution_count": 11,
      "outputs": [
        {
          "output_type": "execute_result",
          "data": {
            "text/plain": [
              "DBN                       object\n",
              "School Name               object\n",
              "Number of Test Takers    float64\n",
              "Critical Reading Mean    float64\n",
              "Mathematics Mean         float64\n",
              "Writing Mean             float64\n",
              "dtype: object"
            ]
          },
          "metadata": {},
          "execution_count": 11
        }
      ]
    },
    {
      "cell_type": "code",
      "source": [
        "df.columns   #sütunların veri yapılarını öğrenmek için kod"
      ],
      "metadata": {
        "colab": {
          "base_uri": "https://localhost:8080/"
        },
        "id": "-SRr0uUknUek",
        "outputId": "b1a44733-8de6-49a3-d768-31be814f37ff"
      },
      "execution_count": 12,
      "outputs": [
        {
          "output_type": "execute_result",
          "data": {
            "text/plain": [
              "Index(['DBN', 'School Name', 'Number of Test Takers', 'Critical Reading Mean',\n",
              "       'Mathematics Mean', 'Writing Mean'],\n",
              "      dtype='object')"
            ]
          },
          "metadata": {},
          "execution_count": 12
        }
      ]
    },
    {
      "cell_type": "code",
      "source": [
        "df.isnull().sum()     #verilerdeki boşlukları kontrol ederiz"
      ],
      "metadata": {
        "colab": {
          "base_uri": "https://localhost:8080/"
        },
        "id": "CcmBYnQYnkrs",
        "outputId": "6edcaf9f-e762-4b8c-a6cb-e3c5a4d4e837"
      },
      "execution_count": 14,
      "outputs": [
        {
          "output_type": "execute_result",
          "data": {
            "text/plain": [
              "DBN                       0\n",
              "School Name               0\n",
              "Number of Test Takers    74\n",
              "Critical Reading Mean    74\n",
              "Mathematics Mean         74\n",
              "Writing Mean             74\n",
              "dtype: int64"
            ]
          },
          "metadata": {},
          "execution_count": 14
        }
      ]
    },
    {
      "cell_type": "code",
      "source": [
        "sns.heatmap(df.isnull(),cbar=False)           #verilerdeki boşlukları görselleştirir"
      ],
      "metadata": {
        "colab": {
          "base_uri": "https://localhost:8080/",
          "height": 593
        },
        "id": "KcbOcvfGn9_8",
        "outputId": "3d631ecb-da3e-42fe-defa-35303f50df69"
      },
      "execution_count": 15,
      "outputs": [
        {
          "output_type": "execute_result",
          "data": {
            "text/plain": [
              "<Axes: >"
            ]
          },
          "metadata": {},
          "execution_count": 15
        },
        {
          "output_type": "display_data",
          "data": {
            "text/plain": [
              "<Figure size 640x480 with 1 Axes>"
            ],
            "image/png": "[encoded data removed]"
          },
          "metadata": {}
        }
      ]
    },
    {
      "cell_type": "code",
      "source": [
        "check_df(df)      #veri setini inceleme"
      ],
      "metadata": {
        "colab": {
          "base_uri": "https://localhost:8080/"
        },
        "id": "J-TJx3puptBV",
        "outputId": "aa418e48-0d5b-45de-f995-a01136972183"
      },
      "execution_count": 19,
      "outputs": [
        {
          "output_type": "stream",
          "name": "stdout",
          "text": [
            "##################### Shape #####################\n",
            "(460, 6)\n",
            "\n",
            "##################### Columns #####################\n",
            "Index(['DBN', 'School Name', 'Number of Test Takers', 'Critical Reading Mean',\n",
            "       'Mathematics Mean', 'Writing Mean'],\n",
            "      dtype='object')\n",
            "\n",
            "##################### Info #####################\n",
            "<class 'pandas.core.frame.DataFrame'>\n",
            "RangeIndex: 460 entries, 0 to 459\n",
            "Data columns (total 6 columns):\n",
            " #   Column                 Non-Null Count  Dtype  \n",
            "---  ------                 --------------  -----  \n",
            " 0   DBN                    460 non-null    object \n",
            " 1   School Name            460 non-null    object \n",
            " 2   Number of Test Takers  386 non-null    float64\n",
            " 3   Critical Reading Mean  386 non-null    float64\n",
            " 4   Mathematics Mean       386 non-null    float64\n",
            " 5   Writing Mean           386 non-null    float64\n",
            "dtypes: float64(4), object(2)\n",
            "memory usage: 21.7+ KB\n",
            "##################### Types #####################\n",
            "DBN                       object\n",
            "School Name               object\n",
            "Number of Test Takers    float64\n",
            "Critical Reading Mean    float64\n",
            "Mathematics Mean         float64\n",
            "Writing Mean             float64\n",
            "dtype: object\n",
            "##################### Head #####################\n",
            "      DBN                                     School Name  \\\n",
            "0  01M292  Henry Street School for International Studies    \n",
            "1  01M448            University Neighborhood High School    \n",
            "2  01M450                East Side Community High School    \n",
            "3  01M458                   SATELLITE ACADEMY FORSYTH ST    \n",
            "4  01M509                               CMSP HIGH SCHOOL    \n",
            "\n",
            "   Number of Test Takers  Critical Reading Mean  Mathematics Mean  \\\n",
            "0                   31.0                  391.0             425.0   \n",
            "1                   60.0                  394.0             419.0   \n",
            "2                   69.0                  418.0             431.0   \n",
            "3                   26.0                  385.0             370.0   \n",
            "4                    NaN                    NaN               NaN   \n",
            "\n",
            "   Writing Mean  \n",
            "0         385.0  \n",
            "1         387.0  \n",
            "2         402.0  \n",
            "3         378.0  \n",
            "4           NaN  \n",
            "##################### Tail #####################\n",
            "        DBN                                        School Name  \\\n",
            "455  75R025                        South Richmond High School    \n",
            "456  75X012                      PS12X LEWIS AND CLARK SCHOOL    \n",
            "457  75X754  P754 X - Jeffrey M. Rapport School for Career ...   \n",
            "458  76K460                              John Jay High School    \n",
            "459  79X490                                    PHOENIX SCHOOL    \n",
            "\n",
            "     Number of Test Takers  Critical Reading Mean  Mathematics Mean  \\\n",
            "455                   10.0                  407.0             421.0   \n",
            "456                    NaN                    NaN               NaN   \n",
            "457                    NaN                    NaN               NaN   \n",
            "458                    9.0                  390.0             381.0   \n",
            "459                    7.0                  404.0             423.0   \n",
            "\n",
            "     Writing Mean  \n",
            "455         400.0  \n",
            "456           NaN  \n",
            "457           NaN  \n",
            "458         398.0  \n",
            "459         416.0  \n",
            "##################### NA #####################\n",
            "DBN                       0\n",
            "School Name               0\n",
            "Number of Test Takers    74\n",
            "Critical Reading Mean    74\n",
            "Mathematics Mean         74\n",
            "Writing Mean             74\n",
            "dtype: int64\n"
          ]
        }
      ]
    },
    {
      "cell_type": "code",
      "source": [
        "df.describe()          #Veri setinin temel istatistiksel özelliklerinin incelenmesi"
      ],
      "metadata": {
        "colab": {
          "base_uri": "https://localhost:8080/",
          "height": 300
        },
        "id": "iPJ4FH1trfx7",
        "outputId": "6acd5a6e-a944-4290-d8e1-03b127ed5bb4"
      },
      "execution_count": 20,
      "outputs": [
        {
          "output_type": "execute_result",
          "data": {
            "text/plain": [
              "       Number of Test Takers  Critical Reading Mean  Mathematics Mean  \\\n",
              "count             386.000000             386.000000        386.000000   \n",
              "mean              103.658031             404.248705        412.935233   \n",
              "std               145.264496              56.815631         64.990976   \n",
              "min                 7.000000             291.000000        281.000000   \n",
              "25%                35.000000             370.000000        372.000000   \n",
              "50%                54.000000             392.500000        394.500000   \n",
              "75%                92.750000             419.000000        429.750000   \n",
              "max              1047.000000             674.000000        735.000000   \n",
              "\n",
              "       Writing Mean  \n",
              "count    386.000000  \n",
              "mean     397.689119  \n",
              "std       57.762584  \n",
              "min      285.000000  \n",
              "25%      364.000000  \n",
              "50%      383.000000  \n",
              "75%      414.000000  \n",
              "max      678.000000  "
            ],
            "text/html": [
              "\n",
              "  <div id=\"df-d682cc43-840b-41d1-85b1-20ea049705fe\" class=\"colab-df-container\">\n",
              "    <div>\n",
              "<style scoped>\n",
              "    .dataframe tbody tr th:only-of-type {\n",
              "        vertical-align: middle;\n",
              "    }\n",
              "\n",
              "    .dataframe tbody tr th {\n",
              "        vertical-align: top;\n",
              "    }\n",
              "\n",
              "    .dataframe thead th {\n",
              "        text-align: right;\n",
              "    }\n",
              "</style>\n",
              "<table border=\"1\" class=\"dataframe\">\n",
              "  <thead>\n",
              "    <tr style=\"text-align: right;\">\n",
              "      <th></th>\n",
              "      <th>Number of Test Takers</th>\n",
              "      <th>Critical Reading Mean</th>\n",
              "      <th>Mathematics Mean</th>\n",
              "      <th>Writing Mean</th>\n",
              "    </tr>\n",
              "  </thead>\n",
              "  <tbody>\n",
              "    <tr>\n",
              "      <th>count</th>\n",
              "      <td>386.000000</td>\n",
              "      <td>386.000000</td>\n",
              "      <td>386.000000</td>\n",
              "      <td>386.000000</td>\n",
              "    </tr>\n",
              "    <tr>\n",
              "      <th>mean</th>\n",
              "      <td>103.658031</td>\n",
              "      <td>404.248705</td>\n",
              "      <td>412.935233</td>\n",
              "      <td>397.689119</td>\n",
              "    </tr>\n",
              "    <tr>\n",
              "      <th>std</th>\n",
              "      <td>145.264496</td>\n",
              "      <td>56.815631</td>\n",
              "      <td>64.990976</td>\n",
              "      <td>57.762584</td>\n",
              "    </tr>\n",
              "    <tr>\n",
              "      <th>min</th>\n",
              "      <td>7.000000</td>\n",
              "      <td>291.000000</td>\n",
              "      <td>281.000000</td>\n",
              "      <td>285.000000</td>\n",
              "    </tr>\n",
              "    <tr>\n",
              "      <th>25%</th>\n",
              "      <td>35.000000</td>\n",
              "      <td>370.000000</td>\n",
              "      <td>372.000000</td>\n",
              "      <td>364.000000</td>\n",
              "    </tr>\n",
              "    <tr>\n",
              "      <th>50%</th>\n",
              "      <td>54.000000</td>\n",
              "      <td>392.500000</td>\n",
              "      <td>394.500000</td>\n",
              "      <td>383.000000</td>\n",
              "    </tr>\n",
              "    <tr>\n",
              "      <th>75%</th>\n",
              "      <td>92.750000</td>\n",
              "      <td>419.000000</td>\n",
              "      <td>429.750000</td>\n",
              "      <td>414.000000</td>\n",
              "    </tr>\n",
              "    <tr>\n",
              "      <th>max</th>\n",
              "      <td>1047.000000</td>\n",
              "      <td>674.000000</td>\n",
              "      <td>735.000000</td>\n",
              "      <td>678.000000</td>\n",
              "    </tr>\n",
              "  </tbody>\n",
              "</table>\n",
              "</div>\n",
              "    <div class=\"colab-df-buttons\">\n",
              "\n",
              "  <div class=\"colab-df-container\">\n",
              "    <button class=\"colab-df-convert\" onclick=\"convertToInteractive('df-d682cc43-840b-41d1-85b1-20ea049705fe')\"\n",
              "            title=\"Convert this dataframe to an interactive table.\"\n",
              "            style=\"display:none;\">\n",
              "\n",
              "  <svg xmlns=\"http://www.w3.org/2000/svg\" height=\"24px\" viewBox=\"0 -960 960 960\">\n",
              "    <path d=\"M120-120v-720h720v720H120Zm60-500h600v-160H180v160Zm220 220h160v-160H400v160Zm0 220h160v-160H400v160ZM180-400h160v-160H180v160Zm440 0h160v-160H620v160ZM180-180h160v-160H180v160Zm440 0h160v-160H620v160Z\"/>\n",
              "  </svg>\n",
              "    </button>\n",
              "\n",
              "  <style>\n",
              "    .colab-df-container {\n",
              "      display:flex;\n",
              "      gap: 12px;\n",
              "    }\n",
              "\n",
              "    .colab-df-convert {\n",
              "      background-color: #E8F0FE;\n",
              "      border: none;\n",
              "      border-radius: 50%;\n",
              "      cursor: pointer;\n",
              "      display: none;\n",
              "      fill: #1967D2;\n",
              "      height: 32px;\n",
              "      padding: 0 0 0 0;\n",
              "      width: 32px;\n",
              "    }\n",
              "\n",
              "    .colab-df-convert:hover {\n",
              "      background-color: #E2EBFA;\n",
              "      box-shadow: 0px 1px 2px rgba(60, 64, 67, 0.3), 0px 1px 3px 1px rgba(60, 64, 67, 0.15);\n",
              "      fill: #174EA6;\n",
              "    }\n",
              "\n",
              "    .colab-df-buttons div {\n",
              "      margin-bottom: 4px;\n",
              "    }\n",
              "\n",
              "    [theme=dark] .colab-df-convert {\n",
              "      background-color: #3B4455;\n",
              "      fill: #D2E3FC;\n",
              "    }\n",
              "\n",
              "    [theme=dark] .colab-df-convert:hover {\n",
              "      background-color: #434B5C;\n",
              "      box-shadow: 0px 1px 3px 1px rgba(0, 0, 0, 0.15);\n",
              "      filter: drop-shadow(0px 1px 2px rgba(0, 0, 0, 0.3));\n",
              "      fill: #FFFFFF;\n",
              "    }\n",
              "  </style>\n",
              "\n",
              "    <script>\n",
              "      const buttonEl =\n",
              "        document.querySelector('#df-d682cc43-840b-41d1-85b1-20ea049705fe button.colab-df-convert');\n",
              "      buttonEl.style.display =\n",
              "        google.colab.kernel.accessAllowed ? 'block' : 'none';\n",
              "\n",
              "      async function convertToInteractive(key) {\n",
              "        const element = document.querySelector('#df-d682cc43-840b-41d1-85b1-20ea049705fe');\n",
              "        const dataTable =\n",
              "          await google.colab.kernel.invokeFunction('convertToInteractive',\n",
              "                                                    [key], {});\n",
              "        if (!dataTable) return;\n",
              "\n",
              "        const docLinkHtml = 'Like what you see? Visit the ' +\n",
              "          '<a target=\"_blank\" href=https://colab.research.google.com/notebooks/data_table.ipynb>data table notebook</a>'\n",
              "          + ' to learn more about interactive tables.';\n",
              "        element.innerHTML = '';\n",
              "        dataTable['output_type'] = 'display_data';\n",
              "        await google.colab.output.renderOutput(dataTable, element);\n",
              "        const docLink = document.createElement('div');\n",
              "        docLink.innerHTML = docLinkHtml;\n",
              "        element.appendChild(docLink);\n",
              "      }\n",
              "    </script>\n",
              "  </div>\n",
              "\n",
              "\n",
              "<div id=\"df-369f43d7-c29e-4d2c-be87-bae38c122c0c\">\n",
              "  <button class=\"colab-df-quickchart\" onclick=\"quickchart('df-369f43d7-c29e-4d2c-be87-bae38c122c0c')\"\n",
              "            title=\"Suggest charts\"\n",
              "            style=\"display:none;\">\n",
              "\n",
              "<svg xmlns=\"http://www.w3.org/2000/svg\" height=\"24px\"viewBox=\"0 0 24 24\"\n",
              "     width=\"24px\">\n",
              "    <g>\n",
              "        <path d=\"M19 3H5c-1.1 0-2 .9-2 2v14c0 1.1.9 2 2 2h14c1.1 0 2-.9 2-2V5c0-1.1-.9-2-2-2zM9 17H7v-7h2v7zm4 0h-2V7h2v10zm4 0h-2v-4h2v4z\"/>\n",
              "    </g>\n",
              "</svg>\n",
              "  </button>\n",
              "\n",
              "<style>\n",
              "  .colab-df-quickchart {\n",
              "      --bg-color: #E8F0FE;\n",
              "      --fill-color: #1967D2;\n",
              "      --hover-bg-color: #E2EBFA;\n",
              "      --hover-fill-color: #174EA6;\n",
              "      --disabled-fill-color: #AAA;\n",
              "      --disabled-bg-color: #DDD;\n",
              "  }\n",
              "\n",
              "  [theme=dark] .colab-df-quickchart {\n",
              "      --bg-color: #3B4455;\n",
              "      --fill-color: #D2E3FC;\n",
              "      --hover-bg-color: #434B5C;\n",
              "      --hover-fill-color: #FFFFFF;\n",
              "      --disabled-bg-color: #3B4455;\n",
              "      --disabled-fill-color: #666;\n",
              "  }\n",
              "\n",
              "  .colab-df-quickchart {\n",
              "    background-color: var(--bg-color);\n",
              "    border: none;\n",
              "    border-radius: 50%;\n",
              "    cursor: pointer;\n",
              "    display: none;\n",
              "    fill: var(--fill-color);\n",
              "    height: 32px;\n",
              "    padding: 0;\n",
              "    width: 32px;\n",
              "  }\n",
              "\n",
              "  .colab-df-quickchart:hover {\n",
              "    background-color: var(--hover-bg-color);\n",
              "    box-shadow: 0 1px 2px rgba(60, 64, 67, 0.3), 0 1px 3px 1px rgba(60, 64, 67, 0.15);\n",
              "    fill: var(--button-hover-fill-color);\n",
              "  }\n",
              "\n",
              "  .colab-df-quickchart-complete:disabled,\n",
              "  .colab-df-quickchart-complete:disabled:hover {\n",
              "    background-color: var(--disabled-bg-color);\n",
              "    fill: var(--disabled-fill-color);\n",
              "    box-shadow: none;\n",
              "  }\n",
              "\n",
              "  .colab-df-spinner {\n",
              "    border: 2px solid var(--fill-color);\n",
              "    border-color: transparent;\n",
              "    border-bottom-color: var(--fill-color);\n",
              "    animation:\n",
              "      spin 1s steps(1) infinite;\n",
              "  }\n",
              "\n",
              "  @keyframes spin {\n",
              "    0% {\n",
              "      border-color: transparent;\n",
              "      border-bottom-color: var(--fill-color);\n",
              "      border-left-color: var(--fill-color);\n",
              "    }\n",
              "    20% {\n",
              "      border-color: transparent;\n",
              "      border-left-color: var(--fill-color);\n",
              "      border-top-color: var(--fill-color);\n",
              "    }\n",
              "    30% {\n",
              "      border-color: transparent;\n",
              "      border-left-color: var(--fill-color);\n",
              "      border-top-color: var(--fill-color);\n",
              "      border-right-color: var(--fill-color);\n",
              "    }\n",
              "    40% {\n",
              "      border-color: transparent;\n",
              "      border-right-color: var(--fill-color);\n",
              "      border-top-color: var(--fill-color);\n",
              "    }\n",
              "    60% {\n",
              "      border-color: transparent;\n",
              "      border-right-color: var(--fill-color);\n",
              "    }\n",
              "    80% {\n",
              "      border-color: transparent;\n",
              "      border-right-color: var(--fill-color);\n",
              "      border-bottom-color: var(--fill-color);\n",
              "    }\n",
              "    90% {\n",
              "      border-color: transparent;\n",
              "      border-bottom-color: var(--fill-color);\n",
              "    }\n",
              "  }\n",
              "</style>\n",
              "\n",
              "  <script>\n",
              "    async function quickchart(key) {\n",
              "      const quickchartButtonEl =\n",
              "        document.querySelector('#' + key + ' button');\n",
              "      quickchartButtonEl.disabled = true;  // To prevent multiple clicks.\n",
              "      quickchartButtonEl.classList.add('colab-df-spinner');\n",
              "      try {\n",
              "        const charts = await google.colab.kernel.invokeFunction(\n",
              "            'suggestCharts', [key], {});\n",
              "      } catch (error) {\n",
              "        console.error('Error during call to suggestCharts:', error);\n",
              "      }\n",
              "      quickchartButtonEl.classList.remove('colab-df-spinner');\n",
              "      quickchartButtonEl.classList.add('colab-df-quickchart-complete');\n",
              "    }\n",
              "    (() => {\n",
              "      let quickchartButtonEl =\n",
              "        document.querySelector('#df-369f43d7-c29e-4d2c-be87-bae38c122c0c button');\n",
              "      quickchartButtonEl.style.display =\n",
              "        google.colab.kernel.accessAllowed ? 'block' : 'none';\n",
              "    })();\n",
              "  </script>\n",
              "</div>\n",
              "\n",
              "    </div>\n",
              "  </div>\n"
            ],
            "application/vnd.google.colaboratory.intrinsic+json": {
              "type": "dataframe",
              "summary": "{\n  \"name\": \"df\",\n  \"rows\": 8,\n  \"fields\": [\n    {\n      \"column\": \"Number of Test Takers\",\n      \"properties\": {\n        \"dtype\": \"number\",\n        \"std\": 348.96118507846364,\n        \"min\": 7.0,\n        \"max\": 1047.0,\n        \"num_unique_values\": 8,\n        \"samples\": [\n          103.65803108808291,\n          54.0,\n          386.0\n        ],\n        \"semantic_type\": \"\",\n        \"description\": \"\"\n      }\n    },\n    {\n      \"column\": \"Critical Reading Mean\",\n      \"properties\": {\n        \"dtype\": \"number\",\n        \"std\": 169.42628075863408,\n        \"min\": 56.81563083702102,\n        \"max\": 674.0,\n        \"num_unique_values\": 8,\n        \"samples\": [\n          404.24870466321244,\n          392.5,\n          386.0\n        ],\n        \"semantic_type\": \"\",\n        \"description\": \"\"\n      }\n    },\n    {\n      \"column\": \"Mathematics Mean\",\n      \"properties\": {\n        \"dtype\": \"number\",\n        \"std\": 184.68627356855401,\n        \"min\": 64.99097601353782,\n        \"max\": 735.0,\n        \"num_unique_values\": 8,\n        \"samples\": [\n          412.93523316062175,\n          394.5,\n          386.0\n        ],\n        \"semantic_type\": \"\",\n        \"description\": \"\"\n      }\n    },\n    {\n      \"column\": \"Writing Mean\",\n      \"properties\": {\n        \"dtype\": \"number\",\n        \"std\": 170.18526722058246,\n        \"min\": 57.762583815929275,\n        \"max\": 678.0,\n        \"num_unique_values\": 8,\n        \"samples\": [\n          397.68911917098444,\n          383.0,\n          386.0\n        ],\n        \"semantic_type\": \"\",\n        \"description\": \"\"\n      }\n    }\n  ]\n}"
            }
          },
          "metadata": {},
          "execution_count": 20
        }
      ]
    },
    {
      "cell_type": "markdown",
      "source": [
        "Variable Description 🚀3️⃣\n",
        "\n",
        "***DBN  ***:the combination of the District Number, the letter code for the borough, and the number of the school.  \n",
        "\n",
        "***School Name***  : name of school    \n",
        "\n",
        "***Number of Test Takers***  : number of test takers(SAT)\n",
        "\n",
        "***Critical Reading Mean *** : reading skills in your exam\n",
        "\n",
        "***Mathematics Mean  ***     : mathematic skills in your exam\n",
        "\n",
        "***Writing Mean   ***        : writing skills in your exam"
      ],
      "metadata": {
        "id": "eeQqHKZgx1yM"
      }
    },
    {
      "cell_type": "markdown",
      "source": [
        "Univarite Variable Analysis ⚠️"
      ],
      "metadata": {
        "id": "cpAKeR0T2kpp"
      }
    },
    {
      "cell_type": "code",
      "source": [
        "def column_detection(dataframe: pd.DataFrame, cat_th: int = 10, car_th: int = 20):\n",
        "    cat_cols = [col for col in dataframe.columns if dataframe[col].dtypes == \"O\"]\n",
        "    num_but_cat = [col for col in dataframe.columns if dataframe[col].nunique() < cat_th and\n",
        "                       dataframe[col].dtypes != \"O\"]\n",
        "    cat_but_car = [col for col in dataframe.columns if dataframe[col].nunique() > car_th and\n",
        "                    dataframe[col].dtypes == \"O\"]\n",
        "    cat_cols = cat_cols + num_but_cat\n",
        "    cat_cols = [col for col in cat_cols if col not in cat_but_car]\n",
        "\n",
        "    # num_cols\n",
        "    num_cols = [col for col in dataframe.columns if dataframe[col].dtypes != \"O\"]\n",
        "    num_cols = [col for col in num_cols if col not in num_but_cat]\n",
        "\n",
        "    print(\"\\n##################### Categoric #####################\")\n",
        "    print(cat_cols)\n",
        "    print(\"\\n##################### Numeric #####################\")\n",
        "    print(num_cols)\n",
        "    print(\"\\n##################### Categoric But Cardinal #####################\")\n",
        "    print(cat_but_car)\n",
        "    print(\"\\n##################### Numeric But Categoric #####################\")\n",
        "    print(num_but_cat)\n",
        "    print(\"\\n##################### Columns Overview #####################\")\n",
        "    print(f\"Observations: {dataframe.shape[0]}\")\n",
        "    print(f\"Variables: {dataframe.shape[1]}\")\n",
        "    print(f'cat_cols: {len(cat_cols)}')\n",
        "    print(f'num_cols: {len(num_cols)}')\n",
        "    print(f'cat_but_car: {len(cat_but_car)}')\n",
        "    print(f'num_but_cat: {len(num_but_cat)}')\n",
        "    return cat_cols, num_cols, cat_but_car, num_but_cat"
      ],
      "metadata": {
        "id": "rD8wmCOIx06x"
      },
      "execution_count": 22,
      "outputs": []
    },
    {
      "cell_type": "code",
      "source": [
        "cat_cols, num_cols, cat_but_car, num_but_cat = column_detection(df)       #Kategorik, Sayısal ve Kardinal Verilerin Tespiti"
      ],
      "metadata": {
        "colab": {
          "base_uri": "https://localhost:8080/"
        },
        "id": "zHPcIlL42zD0",
        "outputId": "90c558d4-36db-48de-da78-be18dffcdb0c"
      },
      "execution_count": 23,
      "outputs": [
        {
          "output_type": "stream",
          "name": "stdout",
          "text": [
            "\n",
            "##################### Categoric #####################\n",
            "[]\n",
            "\n",
            "##################### Numeric #####################\n",
            "['Number of Test Takers', 'Critical Reading Mean', 'Mathematics Mean', 'Writing Mean']\n",
            "\n",
            "##################### Categoric But Cardinal #####################\n",
            "['DBN', 'School Name']\n",
            "\n",
            "##################### Numeric But Categoric #####################\n",
            "[]\n",
            "\n",
            "##################### Columns Overview #####################\n",
            "Observations: 460\n",
            "Variables: 6\n",
            "cat_cols: 0\n",
            "num_cols: 4\n",
            "cat_but_car: 2\n",
            "num_but_cat: 0\n"
          ]
        }
      ]
    },
    {
      "cell_type": "markdown",
      "source": [
        "Kategorik ve Sayısal Değişkenlerin Görselleştirilmesi"
      ],
      "metadata": {
        "id": "w4M1z94Z3F8F"
      }
    },
    {
      "cell_type": "code",
      "source": [
        "def cat_summary(dataframe, col_name, plot=True):\n",
        "    print(pd.DataFrame({col_name: dataframe[col_name].value_counts(),\n",
        "                        \"Ratio\": 100 * dataframe[col_name].value_counts() / len(dataframe)}))\n",
        "\n",
        "    if plot:\n",
        "        sns.countplot(x=dataframe[col_name], data=dataframe)\n",
        "        plt.show(block=True)\n",
        "\n",
        "\n",
        "for col in cat_cols:\n",
        "    cat_summary(df, col)\n",
        "\n",
        "\n",
        "def hist_num_columns_show(dataframe, num_column):\n",
        "    dataframe[num_column].hist(bins=20)\n",
        "    plt.xlabel(num_column)\n",
        "    plt.ylabel(\"Frequency\")\n",
        "    plt.show(block=True)\n",
        "\n",
        "\n",
        "for num_col in num_cols:\n",
        "    hist_num_columns_show(df, num_col)"
      ],
      "metadata": {
        "colab": {
          "base_uri": "https://localhost:8080/",
          "height": 1000
        },
        "id": "al6IXfEG3Jrz",
        "outputId": "53fc5a24-73e8-4e95-cef5-d12c4044df9a"
      },
      "execution_count": 24,
      "outputs": [
        {
          "output_type": "display_data",
          "data": {
            "text/plain": [
              "<Figure size 640x480 with 1 Axes>"
            ],
            "image/png": "[encoded data removed]"
          },
          "metadata": {}
        },
        {
          "output_type": "display_data",
          "data": {
            "text/plain": [
              "<Figure size 640x480 with 1 Axes>"
            ],
            "image/png": "[encoded data removed]"
          },
          "metadata": {}
        },
        {
          "output_type": "display_data",
          "data": {
            "text/plain": [
              "<Figure size 640x480 with 1 Axes>"
            ],
            "image/png": "[encoded data removed]"
          },
          "metadata": {}
        },
        {
          "output_type": "display_data",
          "data": {
            "text/plain": [
              "<Figure size 640x480 with 1 Axes>"
            ],
            "image/png": "[encoded data removed]"
          },
          "metadata": {}
        }
      ]
    },
    {
      "cell_type": "markdown",
      "source": [
        "Data Visualization 📊4️⃣"
      ],
      "metadata": {
        "id": "t6u-C9Ui3fzX"
      }
    },
    {
      "cell_type": "code",
      "source": [
        "#MATHPLOTLİB\n",
        "plt.figure(figsize=(12, 12))\n",
        "plt.scatter('Critical Reading Mean', 'Writing_Mean', data=df)  # Veri çerçevesini \"df\" olarak adlandırdım\n",
        "plt.xticks(rotation=90)\n",
        "plt.xlabel('Critical Reading Mean')\n",
        "plt.ylabel('Writing Mean')\n",
        "plt.show()"
      ],
      "metadata": {
        "colab": {
          "base_uri": "https://localhost:8080/",
          "height": 1000
        },
        "id": "3LFai0Es3hNZ",
        "outputId": "7f15f0ce-8827-4976-e923-53fb1c072610"
      },
      "execution_count": 34,
      "outputs": [
        {
          "output_type": "error",
          "ename": "ValueError",
          "evalue": "x and y must be the same size",
          "traceback": [
            "\u001b[0;31m---------------------------------------------------------------------------\u001b[0m",
            "\u001b[0;31mValueError\u001b[0m                                Traceback (most recent call last)",
            "\u001b[0;32m<ipython-input-34-fa765f293069>\u001b[0m in \u001b[0;36m<cell line: 2>\u001b[0;34m()\u001b[0m\n\u001b[1;32m      1\u001b[0m \u001b[0mplt\u001b[0m\u001b[0;34m.\u001b[0m\u001b[0mfigure\u001b[0m\u001b[0;34m(\u001b[0m\u001b[0mfigsize\u001b[0m\u001b[0;34m=\u001b[0m\u001b[0;34m(\u001b[0m\u001b[0;36m12\u001b[0m\u001b[0;34m,\u001b[0m \u001b[0;36m12\u001b[0m\u001b[0;34m)\u001b[0m\u001b[0;34m)\u001b[0m\u001b[0;34m\u001b[0m\u001b[0;34m\u001b[0m\u001b[0m\n\u001b[0;32m----> 2\u001b[0;31m \u001b[0mplt\u001b[0m\u001b[0;34m.\u001b[0m\u001b[0mscatter\u001b[0m\u001b[0;34m(\u001b[0m\u001b[0;34m'Critical Reading Mean'\u001b[0m\u001b[0;34m,\u001b[0m \u001b[0;34m'Writing_Mean'\u001b[0m\u001b[0;34m,\u001b[0m \u001b[0mdata\u001b[0m\u001b[0;34m=\u001b[0m\u001b[0mdf\u001b[0m\u001b[0;34m)\u001b[0m  \u001b[0;31m# Veri çerçevesini \"df\" olarak adlandırdım\u001b[0m\u001b[0;34m\u001b[0m\u001b[0;34m\u001b[0m\u001b[0m\n\u001b[0m\u001b[1;32m      3\u001b[0m \u001b[0mplt\u001b[0m\u001b[0;34m.\u001b[0m\u001b[0mxticks\u001b[0m\u001b[0;34m(\u001b[0m\u001b[0mrotation\u001b[0m\u001b[0;34m=\u001b[0m\u001b[0;36m90\u001b[0m\u001b[0;34m)\u001b[0m\u001b[0;34m\u001b[0m\u001b[0;34m\u001b[0m\u001b[0m\n\u001b[1;32m      4\u001b[0m \u001b[0mplt\u001b[0m\u001b[0;34m.\u001b[0m\u001b[0mxlabel\u001b[0m\u001b[0;34m(\u001b[0m\u001b[0;34m'Critical Reading Mean'\u001b[0m\u001b[0;34m)\u001b[0m\u001b[0;34m\u001b[0m\u001b[0;34m\u001b[0m\u001b[0m\n\u001b[1;32m      5\u001b[0m \u001b[0mplt\u001b[0m\u001b[0;34m.\u001b[0m\u001b[0mylabel\u001b[0m\u001b[0;34m(\u001b[0m\u001b[0;34m'Writing Mean'\u001b[0m\u001b[0;34m)\u001b[0m\u001b[0;34m\u001b[0m\u001b[0;34m\u001b[0m\u001b[0m\n",
            "\u001b[0;32m/usr/local/lib/python3.10/dist-packages/matplotlib/pyplot.py\u001b[0m in \u001b[0;36mscatter\u001b[0;34m(x, y, s, c, marker, cmap, norm, vmin, vmax, alpha, linewidths, edgecolors, plotnonfinite, data, **kwargs)\u001b[0m\n\u001b[1;32m   2860\u001b[0m         \u001b[0mvmin\u001b[0m\u001b[0;34m=\u001b[0m\u001b[0;32mNone\u001b[0m\u001b[0;34m,\u001b[0m \u001b[0mvmax\u001b[0m\u001b[0;34m=\u001b[0m\u001b[0;32mNone\u001b[0m\u001b[0;34m,\u001b[0m \u001b[0malpha\u001b[0m\u001b[0;34m=\u001b[0m\u001b[0;32mNone\u001b[0m\u001b[0;34m,\u001b[0m \u001b[0mlinewidths\u001b[0m\u001b[0;34m=\u001b[0m\u001b[0;32mNone\u001b[0m\u001b[0;34m,\u001b[0m \u001b[0;34m*\u001b[0m\u001b[0;34m,\u001b[0m\u001b[0;34m\u001b[0m\u001b[0;34m\u001b[0m\u001b[0m\n\u001b[1;32m   2861\u001b[0m         edgecolors=None, plotnonfinite=False, data=None, **kwargs):\n\u001b[0;32m-> 2862\u001b[0;31m     __ret = gca().scatter(\n\u001b[0m\u001b[1;32m   2863\u001b[0m         \u001b[0mx\u001b[0m\u001b[0;34m,\u001b[0m \u001b[0my\u001b[0m\u001b[0;34m,\u001b[0m \u001b[0ms\u001b[0m\u001b[0;34m=\u001b[0m\u001b[0ms\u001b[0m\u001b[0;34m,\u001b[0m \u001b[0mc\u001b[0m\u001b[0;34m=\u001b[0m\u001b[0mc\u001b[0m\u001b[0;34m,\u001b[0m \u001b[0mmarker\u001b[0m\u001b[0;34m=\u001b[0m\u001b[0mmarker\u001b[0m\u001b[0;34m,\u001b[0m \u001b[0mcmap\u001b[0m\u001b[0;34m=\u001b[0m\u001b[0mcmap\u001b[0m\u001b[0;34m,\u001b[0m \u001b[0mnorm\u001b[0m\u001b[0;34m=\u001b[0m\u001b[0mnorm\u001b[0m\u001b[0;34m,\u001b[0m\u001b[0;34m\u001b[0m\u001b[0;34m\u001b[0m\u001b[0m\n\u001b[1;32m   2864\u001b[0m         \u001b[0mvmin\u001b[0m\u001b[0;34m=\u001b[0m\u001b[0mvmin\u001b[0m\u001b[0;34m,\u001b[0m \u001b[0mvmax\u001b[0m\u001b[0;34m=\u001b[0m\u001b[0mvmax\u001b[0m\u001b[0;34m,\u001b[0m \u001b[0malpha\u001b[0m\u001b[0;34m=\u001b[0m\u001b[0malpha\u001b[0m\u001b[0;34m,\u001b[0m \u001b[0mlinewidths\u001b[0m\u001b[0;34m=\u001b[0m\u001b[0mlinewidths\u001b[0m\u001b[0;34m,\u001b[0m\u001b[0;34m\u001b[0m\u001b[0;34m\u001b[0m\u001b[0m\n",
            "\u001b[0;32m/usr/local/lib/python3.10/dist-packages/matplotlib/__init__.py\u001b[0m in \u001b[0;36minner\u001b[0;34m(ax, data, *args, **kwargs)\u001b[0m\n\u001b[1;32m   1466\u001b[0m                 args_and_kwargs.get(label_namer), auto_label)\n\u001b[1;32m   1467\u001b[0m \u001b[0;34m\u001b[0m\u001b[0m\n\u001b[0;32m-> 1468\u001b[0;31m         \u001b[0;32mreturn\u001b[0m \u001b[0mfunc\u001b[0m\u001b[0;34m(\u001b[0m\u001b[0;34m*\u001b[0m\u001b[0mnew_args\u001b[0m\u001b[0;34m,\u001b[0m \u001b[0;34m**\u001b[0m\u001b[0mnew_kwargs\u001b[0m\u001b[0;34m)\u001b[0m\u001b[0;34m\u001b[0m\u001b[0;34m\u001b[0m\u001b[0m\n\u001b[0m\u001b[1;32m   1469\u001b[0m \u001b[0;34m\u001b[0m\u001b[0m\n\u001b[1;32m   1470\u001b[0m     \u001b[0minner\u001b[0m\u001b[0;34m.\u001b[0m\u001b[0m__doc__\u001b[0m \u001b[0;34m=\u001b[0m \u001b[0m_add_data_doc\u001b[0m\u001b[0;34m(\u001b[0m\u001b[0minner\u001b[0m\u001b[0;34m.\u001b[0m\u001b[0m__doc__\u001b[0m\u001b[0;34m,\u001b[0m \u001b[0mreplace_names\u001b[0m\u001b[0;34m)\u001b[0m\u001b[0;34m\u001b[0m\u001b[0;34m\u001b[0m\u001b[0m\n",
            "\u001b[0;32m/usr/local/lib/python3.10/dist-packages/matplotlib/axes/_axes.py\u001b[0m in \u001b[0;36mscatter\u001b[0;34m(self, x, y, s, c, marker, cmap, norm, vmin, vmax, alpha, linewidths, edgecolors, plotnonfinite, **kwargs)\u001b[0m\n\u001b[1;32m   4582\u001b[0m         \u001b[0my\u001b[0m \u001b[0;34m=\u001b[0m \u001b[0mnp\u001b[0m\u001b[0;34m.\u001b[0m\u001b[0mma\u001b[0m\u001b[0;34m.\u001b[0m\u001b[0mravel\u001b[0m\u001b[0;34m(\u001b[0m\u001b[0my\u001b[0m\u001b[0;34m)\u001b[0m\u001b[0;34m\u001b[0m\u001b[0;34m\u001b[0m\u001b[0m\n\u001b[1;32m   4583\u001b[0m         \u001b[0;32mif\u001b[0m \u001b[0mx\u001b[0m\u001b[0;34m.\u001b[0m\u001b[0msize\u001b[0m \u001b[0;34m!=\u001b[0m \u001b[0my\u001b[0m\u001b[0;34m.\u001b[0m\u001b[0msize\u001b[0m\u001b[0;34m:\u001b[0m\u001b[0;34m\u001b[0m\u001b[0;34m\u001b[0m\u001b[0m\n\u001b[0;32m-> 4584\u001b[0;31m             \u001b[0;32mraise\u001b[0m \u001b[0mValueError\u001b[0m\u001b[0;34m(\u001b[0m\u001b[0;34m\"x and y must be the same size\"\u001b[0m\u001b[0;34m)\u001b[0m\u001b[0;34m\u001b[0m\u001b[0;34m\u001b[0m\u001b[0m\n\u001b[0m\u001b[1;32m   4585\u001b[0m \u001b[0;34m\u001b[0m\u001b[0m\n\u001b[1;32m   4586\u001b[0m         \u001b[0;32mif\u001b[0m \u001b[0ms\u001b[0m \u001b[0;32mis\u001b[0m \u001b[0;32mNone\u001b[0m\u001b[0;34m:\u001b[0m\u001b[0;34m\u001b[0m\u001b[0;34m\u001b[0m\u001b[0m\n",
            "\u001b[0;31mValueError\u001b[0m: x and y must be the same size"
          ]
        },
        {
          "output_type": "display_data",
          "data": {
            "text/plain": [
              "<Figure size 1200x1200 with 1 Axes>"
            ],
            "image/png": "[encoded data removed]"
          },
          "metadata": {}
        }
      ]
    },
    {
      "cell_type": "code",
      "source": [
        "#SEABORN\n",
        "plt.figure(figsize=(15,10))\n",
        "ax = sns.barplot(x=\"Critical Reading Mean\", y=\"Writing Mean\", data=df)\n",
        "plt.xticks(rotation= 90);"
      ],
      "metadata": {
        "colab": {
          "base_uri": "https://localhost:8080/",
          "height": 875
        },
        "id": "uwqCiB1K5f7p",
        "outputId": "378d3ad0-52c7-408b-b903-2b8f3032d21a"
      },
      "execution_count": 35,
      "outputs": [
        {
          "output_type": "display_data",
          "data": {
            "text/plain": [
              "<Figure size 1500x1000 with 1 Axes>"
            ],
            "image/png": "[encoded data removed]"
          },
          "metadata": {}
        }
      ]
    },
    {
      "cell_type": "code",
      "source": [
        "ax = plt.figure(figsize=(12,12))\n",
        "plt.xticks(rotation=90)\n",
        "ax = sns.barplot(x=\"Critical Reading Mean\", y=\"Writing Mean\", data=df)"
      ],
      "metadata": {
        "colab": {
          "base_uri": "https://localhost:8080/",
          "height": 1000
        },
        "id": "1SL-qvRJ6WjJ",
        "outputId": "6db1b58d-2bda-4d17-e849-835764620ef5"
      },
      "execution_count": 36,
      "outputs": [
        {
          "output_type": "display_data",
          "data": {
            "text/plain": [
              "<Figure size 1200x1200 with 1 Axes>"
            ],
            "image/png": "[encoded data removed]"
          },
          "metadata": {}
        }
      ]
    },
    {
      "cell_type": "markdown",
      "source": [
        "Değişkenler Arası İlişkiler 🤝5️⃣"
      ],
      "metadata": {
        "id": "yLm9LKKm69gZ"
      }
    },
    {
      "cell_type": "code",
      "source": [
        "corr = df[num_cols].corr()\n",
        "\n",
        "# Korelasyon haritasını oluşturalım\n",
        "sns.set(rc={'figure.figsize': (12, 12)})\n",
        "sns.heatmap(corr, cmap=\"RdBu\", annot=True)  # annot=True ile korelasyon değerlerini göster\n",
        "plt.show()"
      ],
      "metadata": {
        "colab": {
          "base_uri": "https://localhost:8080/",
          "height": 995
        },
        "id": "-ZMUvBjI6-hz",
        "outputId": "cba9c9b3-0889-40dd-cd49-0b8350849a9c"
      },
      "execution_count": 38,
      "outputs": [
        {
          "output_type": "display_data",
          "data": {
            "text/plain": [
              "<Figure size 1200x1200 with 2 Axes>"
            ],
            "image/png": "[encoded data removed]"
          },
          "metadata": {}
        }
      ]
    },
    {
      "cell_type": "markdown",
      "source": [
        "Feature Engineering 🤝6️⃣"
      ],
      "metadata": {
        "id": "1RCUR21f7MnR"
      }
    },
    {
      "cell_type": "code",
      "source": [
        "# Grafik Teknikle Aykırı Değerler\n",
        "###################\n",
        "plt.figure(figsize=(12,8))\n",
        "sns.boxplot(x=df[\"Critical Reading Mean\"])\n",
        "plt.show(block=True)"
      ],
      "metadata": {
        "colab": {
          "base_uri": "https://localhost:8080/",
          "height": 704
        },
        "id": "WroqhMkZ7OXY",
        "outputId": "b777defa-bcfd-4d89-abcf-7a923e8702ed"
      },
      "execution_count": 39,
      "outputs": [
        {
          "output_type": "display_data",
          "data": {
            "text/plain": [
              "<Figure size 1200x800 with 1 Axes>"
            ],
            "image/png": "[encoded data removed]"
          },
          "metadata": {}
        }
      ]
    },
    {
      "cell_type": "code",
      "source": [
        "# Herhangi bir sütundaki verinin outlier olması için alt ve üst limiti\n",
        "def outlier_thresholds(dataframe: pd.DataFrame, col_name: str, q1=0.25, q3=0.75):\n",
        "    quartile1 = dataframe[col_name].quantile(q1)\n",
        "    quartile3 = dataframe[col_name].quantile(q3)\n",
        "    interquantile_range = quartile3 - quartile1\n",
        "    up_limit = quartile3 + 1.5 * interquantile_range\n",
        "    low_limit = quartile1 - 1.5 * interquantile_range\n",
        "    return low_limit, up_limit"
      ],
      "metadata": {
        "id": "W3R2CNFX7koY"
      },
      "execution_count": 40,
      "outputs": []
    },
    {
      "cell_type": "code",
      "source": [
        "outlier_thresholds(df,\"Critical Reading Mean\")"
      ],
      "metadata": {
        "colab": {
          "base_uri": "https://localhost:8080/"
        },
        "id": "IoUupRTy7m5I",
        "outputId": "7d9ad0cc-042b-4e70-d7ef-7847bce6ddbd"
      },
      "execution_count": 41,
      "outputs": [
        {
          "output_type": "execute_result",
          "data": {
            "text/plain": [
              "(296.5, 492.5)"
            ]
          },
          "metadata": {},
          "execution_count": 41
        }
      ]
    },
    {
      "cell_type": "code",
      "source": [
        "def check_outlier(dataframe: pd.DataFrame, col_name: str):\n",
        "    low_limit, up_limit = outlier_thresholds(dataframe, col_name)\n",
        "    if dataframe[(dataframe[col_name] > up_limit) | (dataframe[col_name] < low_limit)].any(\n",
        "            axis=None):\n",
        "        return True\n",
        "    else:\n",
        "        return False"
      ],
      "metadata": {
        "id": "rgUEtrgO7yTh"
      },
      "execution_count": null,
      "outputs": []
    },
    {
      "cell_type": "code",
      "source": [
        "def check_outlier(dataframe, column_name):\n",
        "    Q1 = dataframe[column_name].quantile(0.25)\n",
        "    Q3 = dataframe[column_name].quantile(0.75)\n",
        "    IQR = Q3 - Q1\n",
        "    lower_bound = Q1 - 1.5 * IQR\n",
        "    upper_bound = Q3 + 1.5 * IQR\n",
        "\n",
        "    outliers = dataframe[(dataframe[column_name] < lower_bound) | (dataframe[column_name] > upper_bound)]\n",
        "    return outliers\n",
        "\n",
        "outliers = check_outlier(df, \"Writing Mean\")\n",
        "print(outliers)"
      ],
      "metadata": {
        "colab": {
          "base_uri": "https://localhost:8080/"
        },
        "id": "09YdD_PZ7014",
        "outputId": "431a21c6-ccf4-4336-9349-9417d87461c0"
      },
      "execution_count": 46,
      "outputs": [
        {
          "output_type": "stream",
          "name": "stdout",
          "text": [
            "        DBN                                        School Name  \\\n",
            "6    01M539       New Explorations into Sci, Tech and Math HS    \n",
            "8    01M696                    BARD HIGH SCHOOL EARLY COLLEGE    \n",
            "24   02M408                Professional Performng Arts School    \n",
            "25   02M411                 Baruch College Campus High School    \n",
            "26   02M412    New York City Laboratory School Collab Studies    \n",
            "29   02M416                     ELEANOR ROOSEVELT HIGH SCHOOL    \n",
            "30   02M418                            Millennium High School    \n",
            "42   02M475                            STUYVESANT HIGH SCHOOL    \n",
            "57   02M565                                     URBAN ACADEMY    \n",
            "76   03M479                                     BEACON SCHOOL    \n",
            "77   03M485                      LAGUARDIA HIGH SCH MUSIC ART    \n",
            "99   05M692  High School For Math Science Engineering City ...   \n",
            "173  10X342              International School of Liberal Arts    \n",
            "185  10X445                      BRONX HIGH SCHOOL OF SCIENCE    \n",
            "193  10X696          HS of American Studies at Lehman College    \n",
            "235  13K430                    BROOKLYN TECHNICAL HIGH SCHOOL    \n",
            "248  14K449                             BROOKLYN LATIN SCHOOL    \n",
            "351  22K405           Midwood High School at Brooklyn College    \n",
            "354  22K535                      LEON M GOLDSTEIN HIGH SCHOOL    \n",
            "367  24Q299                 BARD HIGH SCHOOL EARLY COLLEGE II    \n",
            "384  25Q525     Townsend Harris High School at Queens College    \n",
            "387  26Q415                      BENJAMIN CARDOZO HIGH SCHOOL    \n",
            "411  28Q680  Queens Gateway to Health Sciences Secondary Sc...   \n",
            "412  28Q687                    QUEENS HS FOR SCIENCE YORK COL    \n",
            "428  30Q501                  Frank Sinatra School of the Arts    \n",
            "431  30Q575                       ACADEMY OF AMERICAN STUDIES    \n",
            "432  30Q580                     BACCALAUREATE SCH GLOBAL EDUC    \n",
            "434  31R080                         MICHAEL J PETRIDES SCHOOL    \n",
            "442  31R605               STATEN ISLAND TECHNICAL HIGH SCHOOL    \n",
            "\n",
            "     Number of Test Takers  Critical Reading Mean  Mathematics Mean  \\\n",
            "6                     47.0                  568.0             583.0   \n",
            "8                    138.0                  630.0             608.0   \n",
            "24                    69.0                  495.0             465.0   \n",
            "25                    96.0                  523.0             583.0   \n",
            "26                   108.0                  561.0             597.0   \n",
            "29                   122.0                  555.0             596.0   \n",
            "30                   140.0                  512.0             554.0   \n",
            "42                   804.0                  674.0             735.0   \n",
            "57                    34.0                  513.0             460.0   \n",
            "76                   237.0                  573.0             563.0   \n",
            "77                   594.0                  558.0             555.0   \n",
            "99                   106.0                  592.0             627.0   \n",
            "173                   46.0                  333.0             336.0   \n",
            "185                  683.0                  632.0             685.0   \n",
            "193                   74.0                  635.0             630.0   \n",
            "235                 1047.0                  588.0             652.0   \n",
            "248                   50.0                  536.0             534.0   \n",
            "351                  725.0                  493.0             543.0   \n",
            "354                  239.0                  543.0             578.0   \n",
            "367                   42.0                  545.0             548.0   \n",
            "384                  273.0                  637.0             644.0   \n",
            "387                  697.0                  486.0             551.0   \n",
            "411                   89.0                  525.0             532.0   \n",
            "412                   99.0                  613.0             650.0   \n",
            "428                  153.0                  506.0             495.0   \n",
            "431                  120.0                  502.0             505.0   \n",
            "432                   64.0                  560.0             587.0   \n",
            "434                   86.0                  508.0             523.0   \n",
            "442                  287.0                  638.0             673.0   \n",
            "\n",
            "     Writing Mean  \n",
            "6           568.0  \n",
            "8           630.0  \n",
            "24          499.0  \n",
            "25          528.0  \n",
            "26          567.0  \n",
            "29          567.0  \n",
            "30          523.0  \n",
            "42          678.0  \n",
            "57          502.0  \n",
            "76          575.0  \n",
            "77          567.0  \n",
            "99          575.0  \n",
            "173         285.0  \n",
            "185         643.0  \n",
            "193         619.0  \n",
            "235         581.0  \n",
            "248         527.0  \n",
            "351         491.0  \n",
            "354         559.0  \n",
            "367         541.0  \n",
            "384         642.0  \n",
            "387         492.0  \n",
            "411         515.0  \n",
            "412         612.0  \n",
            "428         499.0  \n",
            "431         515.0  \n",
            "432         570.0  \n",
            "434         502.0  \n",
            "442         617.0  \n"
          ]
        }
      ]
    },
    {
      "cell_type": "markdown",
      "source": [
        "***Eksik Değerler***"
      ],
      "metadata": {
        "id": "qa2haryX88sh"
      }
    },
    {
      "cell_type": "code",
      "source": [
        "df.isnull().sum()"
      ],
      "metadata": {
        "colab": {
          "base_uri": "https://localhost:8080/"
        },
        "id": "T4agW0wi9BOg",
        "outputId": "c8495790-ef50-45e0-9cc9-e3103e5944af"
      },
      "execution_count": 47,
      "outputs": [
        {
          "output_type": "execute_result",
          "data": {
            "text/plain": [
              "DBN                       0\n",
              "School Name               0\n",
              "Number of Test Takers    74\n",
              "Critical Reading Mean    74\n",
              "Mathematics Mean         74\n",
              "Writing Mean             74\n",
              "dtype: int64"
            ]
          },
          "metadata": {},
          "execution_count": 47
        }
      ]
    },
    {
      "cell_type": "code",
      "source": [],
      "metadata": {
        "id": "QYEdKod_85aB"
      },
      "execution_count": null,
      "outputs": []
    }
  ]
}